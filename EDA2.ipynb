{
  "nbformat": 4,
  "nbformat_minor": 0,
  "metadata": {
    "colab": {
      "provenance": []
    },
    "kernelspec": {
      "name": "python3",
      "display_name": "Python 3"
    },
    "language_info": {
      "name": "python"
    }
  },
  "cells": [
    {
      "cell_type": "code",
      "execution_count": null,
      "metadata": {
        "colab": {
          "base_uri": "https://localhost:8080/"
        },
        "id": "ok0fBklaOf9b",
        "outputId": "b3502fb5-2b3c-4287-f39e-f06799c018b0"
      },
      "outputs": [
        {
          "output_type": "stream",
          "name": "stdout",
          "text": [
            "Drive already mounted at /content/drive; to attempt to forcibly remount, call drive.mount(\"/content/drive\", force_remount=True).\n"
          ]
        }
      ],
      "source": [
        "from google.colab import drive\n",
        "drive.mount('/content/drive')"
      ]
    },
    {
      "cell_type": "code",
      "source": [
        "!pip uninstall -y pandas numpy\n",
        "!pip install pandas==1.5.3 numpy==1.23.5\n"
      ],
      "metadata": {
        "colab": {
          "base_uri": "https://localhost:8080/",
          "height": 810
        },
        "id": "qejqXQ5cRvxs",
        "outputId": "d2799d45-a282-4f35-e3f8-b4f43550e331"
      },
      "execution_count": null,
      "outputs": [
        {
          "output_type": "stream",
          "name": "stdout",
          "text": [
            "Found existing installation: pandas 2.2.3\n",
            "Uninstalling pandas-2.2.3:\n",
            "  Successfully uninstalled pandas-2.2.3\n",
            "Found existing installation: numpy 2.2.4\n",
            "Uninstalling numpy-2.2.4:\n",
            "  Successfully uninstalled numpy-2.2.4\n",
            "Collecting pandas==1.5.3\n",
            "  Using cached pandas-1.5.3-cp311-cp311-manylinux_2_17_x86_64.manylinux2014_x86_64.whl.metadata (11 kB)\n",
            "Collecting numpy==1.23.5\n",
            "  Downloading numpy-1.23.5-cp311-cp311-manylinux_2_17_x86_64.manylinux2014_x86_64.whl.metadata (2.3 kB)\n",
            "Requirement already satisfied: python-dateutil>=2.8.1 in /usr/local/lib/python3.11/dist-packages (from pandas==1.5.3) (2.8.2)\n",
            "Requirement already satisfied: pytz>=2020.1 in /usr/local/lib/python3.11/dist-packages (from pandas==1.5.3) (2025.2)\n",
            "Requirement already satisfied: six>=1.5 in /usr/local/lib/python3.11/dist-packages (from python-dateutil>=2.8.1->pandas==1.5.3) (1.17.0)\n",
            "Using cached pandas-1.5.3-cp311-cp311-manylinux_2_17_x86_64.manylinux2014_x86_64.whl (12.0 MB)\n",
            "Downloading numpy-1.23.5-cp311-cp311-manylinux_2_17_x86_64.manylinux2014_x86_64.whl (17.1 MB)\n",
            "\u001b[2K   \u001b[90m━━━━━━━━━━━━━━━━━━━━━━━━━━━━━━━━━━━━━━━━\u001b[0m \u001b[32m17.1/17.1 MB\u001b[0m \u001b[31m73.2 MB/s\u001b[0m eta \u001b[36m0:00:00\u001b[0m\n",
            "\u001b[?25hInstalling collected packages: numpy, pandas\n",
            "\u001b[31mERROR: pip's dependency resolver does not currently take into account all the packages that are installed. This behaviour is the source of the following dependency conflicts.\n",
            "google-colab 1.0.0 requires pandas==2.2.2, but you have pandas 1.5.3 which is incompatible.\n",
            "tensorflow 2.18.0 requires numpy<2.1.0,>=1.26.0, but you have numpy 1.23.5 which is incompatible.\n",
            "jax 0.5.2 requires numpy>=1.25, but you have numpy 1.23.5 which is incompatible.\n",
            "cudf-cu12 25.2.1 requires pandas<2.2.4dev0,>=2.0, but you have pandas 1.5.3 which is incompatible.\n",
            "albumentations 2.0.5 requires numpy>=1.24.4, but you have numpy 1.23.5 which is incompatible.\n",
            "mizani 0.13.1 requires pandas>=2.2.0, but you have pandas 1.5.3 which is incompatible.\n",
            "dask-cudf-cu12 25.2.2 requires pandas<2.2.4dev0,>=2.0, but you have pandas 1.5.3 which is incompatible.\n",
            "xarray 2025.1.2 requires numpy>=1.24, but you have numpy 1.23.5 which is incompatible.\n",
            "xarray 2025.1.2 requires pandas>=2.1, but you have pandas 1.5.3 which is incompatible.\n",
            "scikit-image 0.25.2 requires numpy>=1.24, but you have numpy 1.23.5 which is incompatible.\n",
            "imbalanced-learn 0.13.0 requires numpy<3,>=1.24.3, but you have numpy 1.23.5 which is incompatible.\n",
            "chex 0.1.89 requires numpy>=1.24.1, but you have numpy 1.23.5 which is incompatible.\n",
            "bigframes 1.42.0 requires numpy>=1.24.0, but you have numpy 1.23.5 which is incompatible.\n",
            "dask-expr 1.1.21 requires pandas>=2, but you have pandas 1.5.3 which is incompatible.\n",
            "treescope 0.1.9 requires numpy>=1.25.2, but you have numpy 1.23.5 which is incompatible.\n",
            "albucore 0.0.23 requires numpy>=1.24.4, but you have numpy 1.23.5 which is incompatible.\n",
            "blosc2 3.2.1 requires numpy>=1.26, but you have numpy 1.23.5 which is incompatible.\n",
            "pymc 5.21.1 requires numpy>=1.25.0, but you have numpy 1.23.5 which is incompatible.\n",
            "plotnine 0.14.5 requires pandas>=2.2.0, but you have pandas 1.5.3 which is incompatible.\n",
            "jaxlib 0.5.1 requires numpy>=1.25, but you have numpy 1.23.5 which is incompatible.\u001b[0m\u001b[31m\n",
            "\u001b[0mSuccessfully installed numpy-1.23.5 pandas-1.5.3\n"
          ]
        },
        {
          "output_type": "display_data",
          "data": {
            "application/vnd.colab-display-data+json": {
              "pip_warning": {
                "packages": [
                  "numpy"
                ]
              },
              "id": "7af105306fbf495e8dc5a5ab8669bba2"
            }
          },
          "metadata": {}
        }
      ]
    },
    {
      "cell_type": "code",
      "source": [
        "import pandas as pd\n",
        "import numpy as np\n",
        "import matplotlib.pyplot as plt\n",
        "import seaborn as sns\n",
        "from sklearn.preprocessing import StandardScaler, MinMaxScaler, LabelEncoder\n",
        "from sklearn.ensemble import IsolationForest\n",
        "\n",
        "# Load dataset\n",
        "file_path = \"/content/drive/MyDrive/adult_with_headers.csv\"  # Update path if needed\n",
        "df = pd.read_csv(file_path)\n",
        "\n",
        "# Data Exploration\n",
        "print(\"Dataset Info:\")\n",
        "df.info()\n",
        "print(\"\\nMissing Values:\")\n",
        "print(df.isnull().sum())\n",
        "print(\"\\nSummary Statistics:\")\n",
        "print(df.describe(include='all'))\n",
        "\n",
        "# Scaling\n",
        "scaler_std = StandardScaler()\n",
        "scaler_minmax = MinMaxScaler()\n",
        "num_features = df.select_dtypes(include=['int64', 'float64']).columns\n",
        "df_standard_scaled = df.copy()\n",
        "df_minmax_scaled = df.copy()\n",
        "df_standard_scaled[num_features] = scaler_std.fit_transform(df[num_features])\n",
        "df_minmax_scaled[num_features] = scaler_minmax.fit_transform(df[num_features])\n",
        "\n",
        "# Encoding\n",
        "categorical_features = df.select_dtypes(include=['object']).columns\n",
        "for col in categorical_features:\n",
        "    if df[col].nunique() <= 5:\n",
        "        df = pd.get_dummies(df, columns=[col], drop_first=True)\n",
        "    else:\n",
        "        le = LabelEncoder()\n",
        "        df[col] = le.fit_transform(df[col])\n",
        "\n",
        "# Feature Engineering\n",
        "# Example: Creating an interaction feature and binning age\n",
        "df['capital_diff'] = df['capital_gain'] - df['capital_loss']\n",
        "df['age_group'] = pd.cut(df['age'], bins=[0, 30, 50, 100], labels=['Young', 'Middle-aged', 'Senior'])\n",
        "\n",
        "# Log transformation for skewed feature\n",
        "df['log_capital_gain'] = np.log1p(df['capital_gain'])\n",
        "\n",
        "# Outlier Detection with Isolation Forest\n",
        "iso_forest = IsolationForest(contamination=0.05, random_state=42)\n",
        "outlier_preds = iso_forest.fit_predict(df[num_features])\n",
        "df['outlier'] = outlier_preds\n",
        "df = df[df['outlier'] == 1].drop(columns=['outlier'])\n",
        "\n",
        "# Correlation Matrix\n",
        "plt.figure(figsize=(10, 6))\n",
        "sns.heatmap(df[num_features].corr(), annot=True, cmap='coolwarm', fmt='.2f', linewidths=1)\n",
        "plt.title(\"Feature Correlation Heatmap\")\n",
        "plt.show()\n",
        "\n",
        "# Save processed data\n",
        "df.to_csv(\"/content/drive/MyDrive/adult_processed.csv\", index=False)\n",
        "print(\"✅ Processed dataset saved!\")\n"
      ],
      "metadata": {
        "colab": {
          "base_uri": "https://localhost:8080/",
          "height": 1000
        },
        "id": "BCE85ij9Q2LT",
        "outputId": "cfc5e483-d801-4a44-a4df-1692a715b68f"
      },
      "execution_count": null,
      "outputs": [
        {
          "output_type": "stream",
          "name": "stdout",
          "text": [
            "Dataset Info:\n",
            "<class 'pandas.core.frame.DataFrame'>\n",
            "RangeIndex: 32561 entries, 0 to 32560\n",
            "Data columns (total 15 columns):\n",
            " #   Column          Non-Null Count  Dtype \n",
            "---  ------          --------------  ----- \n",
            " 0   age             32561 non-null  int64 \n",
            " 1   workclass       32561 non-null  object\n",
            " 2   fnlwgt          32561 non-null  int64 \n",
            " 3   education       32561 non-null  object\n",
            " 4   education_num   32561 non-null  int64 \n",
            " 5   marital_status  32561 non-null  object\n",
            " 6   occupation      32561 non-null  object\n",
            " 7   relationship    32561 non-null  object\n",
            " 8   race            32561 non-null  object\n",
            " 9   sex             32561 non-null  object\n",
            " 10  capital_gain    32561 non-null  int64 \n",
            " 11  capital_loss    32561 non-null  int64 \n",
            " 12  hours_per_week  32561 non-null  int64 \n",
            " 13  native_country  32561 non-null  object\n",
            " 14  income          32561 non-null  object\n",
            "dtypes: int64(6), object(9)\n",
            "memory usage: 3.7+ MB\n",
            "\n",
            "Missing Values:\n",
            "age               0\n",
            "workclass         0\n",
            "fnlwgt            0\n",
            "education         0\n",
            "education_num     0\n",
            "marital_status    0\n",
            "occupation        0\n",
            "relationship      0\n",
            "race              0\n",
            "sex               0\n",
            "capital_gain      0\n",
            "capital_loss      0\n",
            "hours_per_week    0\n",
            "native_country    0\n",
            "income            0\n",
            "dtype: int64\n",
            "\n",
            "Summary Statistics:\n",
            "                 age workclass        fnlwgt education  education_num  \\\n",
            "count   32561.000000     32561  3.256100e+04     32561   32561.000000   \n",
            "unique           NaN         9           NaN        16            NaN   \n",
            "top              NaN   Private           NaN   HS-grad            NaN   \n",
            "freq             NaN     22696           NaN     10501            NaN   \n",
            "mean       38.581647       NaN  1.897784e+05       NaN      10.080679   \n",
            "std        13.640433       NaN  1.055500e+05       NaN       2.572720   \n",
            "min        17.000000       NaN  1.228500e+04       NaN       1.000000   \n",
            "25%        28.000000       NaN  1.178270e+05       NaN       9.000000   \n",
            "50%        37.000000       NaN  1.783560e+05       NaN      10.000000   \n",
            "75%        48.000000       NaN  2.370510e+05       NaN      12.000000   \n",
            "max        90.000000       NaN  1.484705e+06       NaN      16.000000   \n",
            "\n",
            "             marital_status       occupation relationship    race    sex  \\\n",
            "count                 32561            32561        32561   32561  32561   \n",
            "unique                    7               15            6       5      2   \n",
            "top      Married-civ-spouse   Prof-specialty      Husband   White   Male   \n",
            "freq                  14976             4140        13193   27816  21790   \n",
            "mean                    NaN              NaN          NaN     NaN    NaN   \n",
            "std                     NaN              NaN          NaN     NaN    NaN   \n",
            "min                     NaN              NaN          NaN     NaN    NaN   \n",
            "25%                     NaN              NaN          NaN     NaN    NaN   \n",
            "50%                     NaN              NaN          NaN     NaN    NaN   \n",
            "75%                     NaN              NaN          NaN     NaN    NaN   \n",
            "max                     NaN              NaN          NaN     NaN    NaN   \n",
            "\n",
            "        capital_gain  capital_loss  hours_per_week  native_country  income  \n",
            "count   32561.000000  32561.000000    32561.000000           32561   32561  \n",
            "unique           NaN           NaN             NaN              42       2  \n",
            "top              NaN           NaN             NaN   United-States   <=50K  \n",
            "freq             NaN           NaN             NaN           29170   24720  \n",
            "mean     1077.648844     87.303830       40.437456             NaN     NaN  \n",
            "std      7385.292085    402.960219       12.347429             NaN     NaN  \n",
            "min         0.000000      0.000000        1.000000             NaN     NaN  \n",
            "25%         0.000000      0.000000       40.000000             NaN     NaN  \n",
            "50%         0.000000      0.000000       40.000000             NaN     NaN  \n",
            "75%         0.000000      0.000000       45.000000             NaN     NaN  \n",
            "max     99999.000000   4356.000000       99.000000             NaN     NaN  \n"
          ]
        },
        {
          "output_type": "display_data",
          "data": {
            "text/plain": [
              "<Figure size 1000x600 with 2 Axes>"
            ],
            "image/png": "[encoded data removed]"
          },
          "metadata": {}
        },
        {
          "output_type": "stream",
          "name": "stdout",
          "text": [
            "✅ Processed dataset saved!\n"
          ]
        }
      ]
    },
    {
      "cell_type": "code",
      "source": [
        "# Check column names to confirm the target variable\n",
        "print(df.columns)\n"
      ],
      "metadata": {
        "colab": {
          "base_uri": "https://localhost:8080/"
        },
        "id": "VonO9WwzRb5l",
        "outputId": "d70db2bd-b113-44ee-9963-ee47dc4a41d5"
      },
      "execution_count": null,
      "outputs": [
        {
          "output_type": "stream",
          "name": "stdout",
          "text": [
            "Index(['age', 'workclass', 'fnlwgt', 'education', 'education_num',\n",
            "       'marital_status', 'occupation', 'relationship', 'capital_gain',\n",
            "       'capital_loss', 'hours_per_week', 'native_country',\n",
            "       'race_ Asian-Pac-Islander', 'race_ Black', 'race_ Other', 'race_ White',\n",
            "       'sex_ Male', 'income_ >50K', 'capital_diff', 'age_group',\n",
            "       'log_capital_gain'],\n",
            "      dtype='object')\n"
          ]
        }
      ]
    },
    {
      "cell_type": "code",
      "source": [
        "# Import necessary libraries\n",
        "import pandas as pd\n",
        "from sklearn.model_selection import train_test_split\n",
        "from sklearn.ensemble import RandomForestClassifier\n",
        "from sklearn.metrics import accuracy_score, classification_report\n",
        "from sklearn.preprocessing import LabelEncoder\n",
        "\n",
        "# Load the dataset\n",
        "file_path = \"/content/drive/MyDrive/adult_processed.csv\"  # Update path as needed\n",
        "df = pd.read_csv(file_path)\n",
        "\n",
        "# Data Exploration (optional)\n",
        "print(\"Dataset Info:\")\n",
        "df.info()\n",
        "print(\"\\nMissing Values:\")\n",
        "print(df.isnull().sum())\n",
        "print(\"\\nSummary Statistics:\")\n",
        "print(df.describe(include='all'))\n",
        "\n",
        "# Convert 'age_group' to numerical using Label Encoding\n",
        "le = LabelEncoder()\n",
        "df['age_group'] = le.fit_transform(df['age_group'])\n",
        "\n",
        "# Split the data into features (X) and target (y)\n",
        "X = df.drop(columns=['income_ >50K'])  # Features\n",
        "y = df['income_ >50K']  # Target variable\n",
        "\n",
        "# Split the data into training and testing sets (80% train, 20% test)\n",
        "X_train, X_test, y_train, y_test = train_test_split(X, y, test_size=0.2, random_state=42)\n",
        "\n",
        "# Initialize the model (Random Forest)\n",
        "model = RandomForestClassifier(random_state=42)\n",
        "\n",
        "# Train the model\n",
        "model.fit(X_train, y_train)\n",
        "\n",
        "# Make predictions on the test set\n",
        "y_pred = model.predict(X_test)\n",
        "\n",
        "# Evaluate the model's performance\n",
        "print(f\"Accuracy: {accuracy_score(y_test, y_pred):.4f}\")\n",
        "print(classification_report(y_test, y_pred))\n"
      ],
      "metadata": {
        "colab": {
          "base_uri": "https://localhost:8080/"
        },
        "id": "9pT8jlf8U7pO",
        "outputId": "ebb539fc-3f5a-4a77-839c-84f499022ab4"
      },
      "execution_count": null,
      "outputs": [
        {
          "output_type": "stream",
          "name": "stdout",
          "text": [
            "Dataset Info:\n",
            "<class 'pandas.core.frame.DataFrame'>\n",
            "RangeIndex: 30933 entries, 0 to 30932\n",
            "Data columns (total 21 columns):\n",
            " #   Column                    Non-Null Count  Dtype  \n",
            "---  ------                    --------------  -----  \n",
            " 0   age                       30933 non-null  int64  \n",
            " 1   workclass                 30933 non-null  int64  \n",
            " 2   fnlwgt                    30933 non-null  int64  \n",
            " 3   education                 30933 non-null  int64  \n",
            " 4   education_num             30933 non-null  int64  \n",
            " 5   marital_status            30933 non-null  int64  \n",
            " 6   occupation                30933 non-null  int64  \n",
            " 7   relationship              30933 non-null  int64  \n",
            " 8   capital_gain              30933 non-null  int64  \n",
            " 9   capital_loss              30933 non-null  int64  \n",
            " 10  hours_per_week            30933 non-null  int64  \n",
            " 11  native_country            30933 non-null  int64  \n",
            " 12  race_ Asian-Pac-Islander  30933 non-null  int64  \n",
            " 13  race_ Black               30933 non-null  int64  \n",
            " 14  race_ Other               30933 non-null  int64  \n",
            " 15  race_ White               30933 non-null  int64  \n",
            " 16  sex_ Male                 30933 non-null  int64  \n",
            " 17  income_ >50K              30933 non-null  int64  \n",
            " 18  capital_diff              30933 non-null  int64  \n",
            " 19  age_group                 30933 non-null  object \n",
            " 20  log_capital_gain          30933 non-null  float64\n",
            "dtypes: float64(1), int64(19), object(1)\n",
            "memory usage: 5.0+ MB\n",
            "\n",
            "Missing Values:\n",
            "age                         0\n",
            "workclass                   0\n",
            "fnlwgt                      0\n",
            "education                   0\n",
            "education_num               0\n",
            "marital_status              0\n",
            "occupation                  0\n",
            "relationship                0\n",
            "capital_gain                0\n",
            "capital_loss                0\n",
            "hours_per_week              0\n",
            "native_country              0\n",
            "race_ Asian-Pac-Islander    0\n",
            "race_ Black                 0\n",
            "race_ Other                 0\n",
            "race_ White                 0\n",
            "sex_ Male                   0\n",
            "income_ >50K                0\n",
            "capital_diff                0\n",
            "age_group                   0\n",
            "log_capital_gain            0\n",
            "dtype: int64\n",
            "\n",
            "Summary Statistics:\n",
            "                 age     workclass        fnlwgt     education  education_num  \\\n",
            "count   30933.000000  30933.000000  3.093300e+04  30933.000000   30933.000000   \n",
            "unique           NaN           NaN           NaN           NaN            NaN   \n",
            "top              NaN           NaN           NaN           NaN            NaN   \n",
            "freq             NaN           NaN           NaN           NaN            NaN   \n",
            "mean       38.129247      3.864902  1.888897e+05     10.319044      10.046423   \n",
            "std        13.283675      1.443519  1.029841e+05      3.865816       2.480907   \n",
            "min        17.000000      0.000000  1.228500e+04      0.000000       1.000000   \n",
            "25%        27.000000      4.000000  1.183060e+05      9.000000       9.000000   \n",
            "50%        37.000000      4.000000  1.784780e+05     11.000000      10.000000   \n",
            "75%        47.000000      4.000000  2.360680e+05     12.000000      12.000000   \n",
            "max        90.000000      8.000000  1.484705e+06     15.000000      16.000000   \n",
            "\n",
            "        marital_status   occupation  relationship  capital_gain  capital_loss  \\\n",
            "count     30933.000000  30933.00000  30933.000000  30933.000000  30933.000000   \n",
            "unique             NaN          NaN           NaN           NaN           NaN   \n",
            "top                NaN          NaN           NaN           NaN           NaN   \n",
            "freq               NaN          NaN           NaN           NaN           NaN   \n",
            "mean          2.616429      6.55840      1.471471    489.752077     32.558303   \n",
            "std           1.510063      4.23176      1.609309   2099.479841    237.196657   \n",
            "min           0.000000      0.00000      0.000000      0.000000      0.000000   \n",
            "25%           2.000000      3.00000      0.000000      0.000000      0.000000   \n",
            "50%           2.000000      7.00000      1.000000      0.000000      0.000000   \n",
            "75%           4.000000     10.00000      3.000000      0.000000      0.000000   \n",
            "max           6.000000     14.00000      5.000000  27828.000000   2258.000000   \n",
            "\n",
            "        ...  native_country  race_ Asian-Pac-Islander   race_ Black  \\\n",
            "count   ...    30933.000000              30933.000000  30933.000000   \n",
            "unique  ...             NaN                       NaN           NaN   \n",
            "top     ...             NaN                       NaN           NaN   \n",
            "freq    ...             NaN                       NaN           NaN   \n",
            "mean    ...       36.754696                  0.031584      0.097210   \n",
            "std     ...        7.758975                  0.174894      0.296248   \n",
            "min     ...        0.000000                  0.000000      0.000000   \n",
            "25%     ...       39.000000                  0.000000      0.000000   \n",
            "50%     ...       39.000000                  0.000000      0.000000   \n",
            "75%     ...       39.000000                  0.000000      0.000000   \n",
            "max     ...       41.000000                  1.000000      1.000000   \n",
            "\n",
            "         race_ Other   race_ White     sex_ Male  income_ >50K  capital_diff  \\\n",
            "count   30933.000000  30933.000000  30933.000000  30933.000000  30933.000000   \n",
            "unique           NaN           NaN           NaN           NaN           NaN   \n",
            "top              NaN           NaN           NaN           NaN           NaN   \n",
            "freq             NaN           NaN           NaN           NaN           NaN   \n",
            "mean        0.008470      0.852973      0.663434      0.224065    457.193774   \n",
            "std         0.091643      0.354139      0.472543      0.416972   2120.370222   \n",
            "min         0.000000      0.000000      0.000000      0.000000  -2258.000000   \n",
            "25%         0.000000      1.000000      0.000000      0.000000      0.000000   \n",
            "50%         0.000000      1.000000      1.000000      0.000000      0.000000   \n",
            "75%         0.000000      1.000000      1.000000      0.000000      0.000000   \n",
            "max         1.000000      1.000000      1.000000      1.000000  27828.000000   \n",
            "\n",
            "          age_group log_capital_gain  \n",
            "count         30933     30933.000000  \n",
            "unique            3              NaN  \n",
            "top     Middle-aged              NaN  \n",
            "freq          14846              NaN  \n",
            "mean            NaN         0.631636  \n",
            "std             NaN         2.248053  \n",
            "min             NaN         0.000000  \n",
            "25%             NaN         0.000000  \n",
            "50%             NaN         0.000000  \n",
            "75%             NaN         0.000000  \n",
            "max             NaN        10.233834  \n",
            "\n",
            "[11 rows x 21 columns]\n",
            "Accuracy: 0.8570\n",
            "              precision    recall  f1-score   support\n",
            "\n",
            "           0       0.89      0.93      0.91      4757\n",
            "           1       0.73      0.61      0.66      1430\n",
            "\n",
            "    accuracy                           0.86      6187\n",
            "   macro avg       0.81      0.77      0.79      6187\n",
            "weighted avg       0.85      0.86      0.85      6187\n",
            "\n"
          ]
        }
      ]
    },
    {
      "cell_type": "code",
      "source": [
        "import joblib\n",
        "\n",
        "# Save the trained model\n",
        "joblib.dump(model, 'final_model.pkl')\n",
        "\n",
        "# To load the model later:\n",
        "loaded_model = joblib.load('final_model.pkl')\n"
      ],
      "metadata": {
        "id": "1cPtquwdYzyy"
      },
      "execution_count": null,
      "outputs": []
    },
    {
      "cell_type": "code",
      "source": [],
      "metadata": {
        "id": "Vk-JDXAhY9q5"
      },
      "execution_count": null,
      "outputs": []
    }
  ]
}